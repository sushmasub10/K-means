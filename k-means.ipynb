{
 "cells": [
  {
   "cell_type": "code",
   "execution_count": 3,
   "id": "456becf5",
   "metadata": {},
   "outputs": [],
   "source": [
    "import pandas as pd\n",
    "import matplotlib.pyplot as plt\n",
    "import seaborn as sns\n",
    "import numpy as np\n",
    "%matplotlib inline"
   ]
  },
  {
   "cell_type": "code",
   "execution_count": 68,
   "id": "ac595efd",
   "metadata": {},
   "outputs": [
    {
     "data": {
      "text/html": [
       "<div>\n",
       "<style scoped>\n",
       "    .dataframe tbody tr th:only-of-type {\n",
       "        vertical-align: middle;\n",
       "    }\n",
       "\n",
       "    .dataframe tbody tr th {\n",
       "        vertical-align: top;\n",
       "    }\n",
       "\n",
       "    .dataframe thead th {\n",
       "        text-align: right;\n",
       "    }\n",
       "</style>\n",
       "<table border=\"1\" class=\"dataframe\">\n",
       "  <thead>\n",
       "    <tr style=\"text-align: right;\">\n",
       "      <th></th>\n",
       "      <th>id</th>\n",
       "      <th>simplicity</th>\n",
       "      <th>fatalism</th>\n",
       "      <th>depression</th>\n",
       "      <th>adjsimp</th>\n",
       "      <th>adjfatal</th>\n",
       "      <th>adjdep</th>\n",
       "    </tr>\n",
       "  </thead>\n",
       "  <tbody>\n",
       "    <tr>\n",
       "      <th>0</th>\n",
       "      <td>1</td>\n",
       "      <td>0.92983</td>\n",
       "      <td>0.35589</td>\n",
       "      <td>0.59870</td>\n",
       "      <td>0.75934</td>\n",
       "      <td>0.10673</td>\n",
       "      <td>0.41865</td>\n",
       "    </tr>\n",
       "    <tr>\n",
       "      <th>1</th>\n",
       "      <td>2</td>\n",
       "      <td>0.91097</td>\n",
       "      <td>1.18439</td>\n",
       "      <td>0.72787</td>\n",
       "      <td>0.72717</td>\n",
       "      <td>0.99915</td>\n",
       "      <td>0.51688</td>\n",
       "    </tr>\n",
       "    <tr>\n",
       "      <th>2</th>\n",
       "      <td>3</td>\n",
       "      <td>0.53366</td>\n",
       "      <td>-0.05837</td>\n",
       "      <td>0.53411</td>\n",
       "      <td>0.62176</td>\n",
       "      <td>0.03811</td>\n",
       "      <td>0.70699</td>\n",
       "    </tr>\n",
       "    <tr>\n",
       "      <th>3</th>\n",
       "      <td>4</td>\n",
       "      <td>0.74118</td>\n",
       "      <td>0.35589</td>\n",
       "      <td>0.56641</td>\n",
       "      <td>0.83522</td>\n",
       "      <td>0.42218</td>\n",
       "      <td>0.65639</td>\n",
       "    </tr>\n",
       "    <tr>\n",
       "      <th>4</th>\n",
       "      <td>5</td>\n",
       "      <td>0.53366</td>\n",
       "      <td>0.77014</td>\n",
       "      <td>0.50182</td>\n",
       "      <td>0.47697</td>\n",
       "      <td>0.81423</td>\n",
       "      <td>0.53518</td>\n",
       "    </tr>\n",
       "  </tbody>\n",
       "</table>\n",
       "</div>"
      ],
      "text/plain": [
       "   id  simplicity  fatalism  depression  adjsimp  adjfatal   adjdep\n",
       "0   1     0.92983   0.35589     0.59870  0.75934   0.10673  0.41865\n",
       "1   2     0.91097   1.18439     0.72787  0.72717   0.99915  0.51688\n",
       "2   3     0.53366  -0.05837     0.53411  0.62176   0.03811  0.70699\n",
       "3   4     0.74118   0.35589     0.56641  0.83522   0.42218  0.65639\n",
       "4   5     0.53366   0.77014     0.50182  0.47697   0.81423  0.53518"
      ]
     },
     "execution_count": 68,
     "metadata": {},
     "output_type": "execute_result"
    }
   ],
   "source": [
    "mydata=pd.read_csv('G:\\Dataset\\Depression.csv')\n",
    "mydata.head(5)\n"
   ]
  },
  {
   "cell_type": "code",
   "execution_count": 69,
   "id": "9fe16c91",
   "metadata": {},
   "outputs": [],
   "source": [
    "mydata.drop('id', axis=1,inplace=True)"
   ]
  },
  {
   "cell_type": "code",
   "execution_count": 70,
   "id": "49b4c510",
   "metadata": {},
   "outputs": [
    {
     "name": "stdout",
     "output_type": "stream",
     "text": [
      "<class 'pandas.core.frame.DataFrame'>\n",
      "RangeIndex: 82 entries, 0 to 81\n",
      "Data columns (total 6 columns):\n",
      " #   Column      Non-Null Count  Dtype  \n",
      "---  ------      --------------  -----  \n",
      " 0   simplicity  82 non-null     float64\n",
      " 1   fatalism    82 non-null     float64\n",
      " 2   depression  82 non-null     float64\n",
      " 3   adjsimp     82 non-null     float64\n",
      " 4   adjfatal    82 non-null     float64\n",
      " 5   adjdep      82 non-null     float64\n",
      "dtypes: float64(6)\n",
      "memory usage: 4.0 KB\n"
     ]
    }
   ],
   "source": [
    "mydata.info()"
   ]
  },
  {
   "cell_type": "code",
   "execution_count": 71,
   "id": "0027a044",
   "metadata": {},
   "outputs": [
    {
     "data": {
      "text/html": [
       "<div>\n",
       "<style scoped>\n",
       "    .dataframe tbody tr th:only-of-type {\n",
       "        vertical-align: middle;\n",
       "    }\n",
       "\n",
       "    .dataframe tbody tr th {\n",
       "        vertical-align: top;\n",
       "    }\n",
       "\n",
       "    .dataframe thead th {\n",
       "        text-align: right;\n",
       "    }\n",
       "</style>\n",
       "<table border=\"1\" class=\"dataframe\">\n",
       "  <thead>\n",
       "    <tr style=\"text-align: right;\">\n",
       "      <th></th>\n",
       "      <th>simplicity</th>\n",
       "      <th>fatalism</th>\n",
       "      <th>depression</th>\n",
       "      <th>adjsimp</th>\n",
       "      <th>adjfatal</th>\n",
       "      <th>adjdep</th>\n",
       "    </tr>\n",
       "  </thead>\n",
       "  <tbody>\n",
       "    <tr>\n",
       "      <th>count</th>\n",
       "      <td>82.000000</td>\n",
       "      <td>82.000000</td>\n",
       "      <td>82.000000</td>\n",
       "      <td>82.000000</td>\n",
       "      <td>82.000000</td>\n",
       "      <td>82.000000</td>\n",
       "    </tr>\n",
       "    <tr>\n",
       "      <th>mean</th>\n",
       "      <td>1.000000</td>\n",
       "      <td>1.000000</td>\n",
       "      <td>1.000001</td>\n",
       "      <td>1.000000</td>\n",
       "      <td>1.000000</td>\n",
       "      <td>1.000000</td>\n",
       "    </tr>\n",
       "    <tr>\n",
       "      <th>std</th>\n",
       "      <td>0.500000</td>\n",
       "      <td>0.500001</td>\n",
       "      <td>0.500000</td>\n",
       "      <td>0.499999</td>\n",
       "      <td>0.500000</td>\n",
       "      <td>0.500000</td>\n",
       "    </tr>\n",
       "    <tr>\n",
       "      <th>min</th>\n",
       "      <td>0.250680</td>\n",
       "      <td>-0.058370</td>\n",
       "      <td>0.469530</td>\n",
       "      <td>0.235690</td>\n",
       "      <td>0.030120</td>\n",
       "      <td>0.234540</td>\n",
       "    </tr>\n",
       "    <tr>\n",
       "      <th>25%</th>\n",
       "      <td>0.656282</td>\n",
       "      <td>0.563010</td>\n",
       "      <td>0.566410</td>\n",
       "      <td>0.697958</td>\n",
       "      <td>0.731598</td>\n",
       "      <td>0.596565</td>\n",
       "    </tr>\n",
       "    <tr>\n",
       "      <th>50%</th>\n",
       "      <td>0.882665</td>\n",
       "      <td>0.977270</td>\n",
       "      <td>0.824750</td>\n",
       "      <td>0.968490</td>\n",
       "      <td>0.924290</td>\n",
       "      <td>0.967845</td>\n",
       "    </tr>\n",
       "    <tr>\n",
       "      <th>75%</th>\n",
       "      <td>1.269400</td>\n",
       "      <td>1.391520</td>\n",
       "      <td>1.373730</td>\n",
       "      <td>1.201790</td>\n",
       "      <td>1.299120</td>\n",
       "      <td>1.261750</td>\n",
       "    </tr>\n",
       "    <tr>\n",
       "      <th>max</th>\n",
       "      <td>2.854080</td>\n",
       "      <td>2.220030</td>\n",
       "      <td>2.245650</td>\n",
       "      <td>2.949770</td>\n",
       "      <td>2.249310</td>\n",
       "      <td>2.787630</td>\n",
       "    </tr>\n",
       "  </tbody>\n",
       "</table>\n",
       "</div>"
      ],
      "text/plain": [
       "       simplicity   fatalism  depression    adjsimp   adjfatal     adjdep\n",
       "count   82.000000  82.000000   82.000000  82.000000  82.000000  82.000000\n",
       "mean     1.000000   1.000000    1.000001   1.000000   1.000000   1.000000\n",
       "std      0.500000   0.500001    0.500000   0.499999   0.500000   0.500000\n",
       "min      0.250680  -0.058370    0.469530   0.235690   0.030120   0.234540\n",
       "25%      0.656282   0.563010    0.566410   0.697958   0.731598   0.596565\n",
       "50%      0.882665   0.977270    0.824750   0.968490   0.924290   0.967845\n",
       "75%      1.269400   1.391520    1.373730   1.201790   1.299120   1.261750\n",
       "max      2.854080   2.220030    2.245650   2.949770   2.249310   2.787630"
      ]
     },
     "execution_count": 71,
     "metadata": {},
     "output_type": "execute_result"
    }
   ],
   "source": [
    "mydata.describe()"
   ]
  },
  {
   "cell_type": "code",
   "execution_count": 72,
   "id": "69128f4a",
   "metadata": {},
   "outputs": [],
   "source": [
    "from scipy.stats import zscore\n",
    "mydata_z=mydata.apply(zscore)"
   ]
  },
  {
   "cell_type": "code",
   "execution_count": 73,
   "id": "feccd249",
   "metadata": {},
   "outputs": [
    {
     "data": {
      "text/html": [
       "<div>\n",
       "<style scoped>\n",
       "    .dataframe tbody tr th:only-of-type {\n",
       "        vertical-align: middle;\n",
       "    }\n",
       "\n",
       "    .dataframe tbody tr th {\n",
       "        vertical-align: top;\n",
       "    }\n",
       "\n",
       "    .dataframe thead th {\n",
       "        text-align: right;\n",
       "    }\n",
       "</style>\n",
       "<table border=\"1\" class=\"dataframe\">\n",
       "  <thead>\n",
       "    <tr style=\"text-align: right;\">\n",
       "      <th></th>\n",
       "      <th>simplicity</th>\n",
       "      <th>fatalism</th>\n",
       "      <th>depression</th>\n",
       "      <th>adjsimp</th>\n",
       "      <th>adjfatal</th>\n",
       "      <th>adjdep</th>\n",
       "    </tr>\n",
       "  </thead>\n",
       "  <tbody>\n",
       "    <tr>\n",
       "      <th>0</th>\n",
       "      <td>-0.141205</td>\n",
       "      <td>-1.296147</td>\n",
       "      <td>-0.807541</td>\n",
       "      <td>-0.484282</td>\n",
       "      <td>-1.797534</td>\n",
       "      <td>-1.169856</td>\n",
       "    </tr>\n",
       "    <tr>\n",
       "      <th>1</th>\n",
       "      <td>-0.179157</td>\n",
       "      <td>0.371048</td>\n",
       "      <td>-0.547611</td>\n",
       "      <td>-0.549018</td>\n",
       "      <td>-0.001710</td>\n",
       "      <td>-0.972187</td>\n",
       "    </tr>\n",
       "    <tr>\n",
       "      <th>2</th>\n",
       "      <td>-0.938421</td>\n",
       "      <td>-2.129764</td>\n",
       "      <td>-0.937516</td>\n",
       "      <td>-0.761136</td>\n",
       "      <td>-1.935619</td>\n",
       "      <td>-0.589627</td>\n",
       "    </tr>\n",
       "    <tr>\n",
       "      <th>3</th>\n",
       "      <td>-0.520827</td>\n",
       "      <td>-1.296147</td>\n",
       "      <td>-0.872518</td>\n",
       "      <td>-0.331588</td>\n",
       "      <td>-1.162751</td>\n",
       "      <td>-0.691450</td>\n",
       "    </tr>\n",
       "    <tr>\n",
       "      <th>4</th>\n",
       "      <td>-0.938421</td>\n",
       "      <td>-0.462549</td>\n",
       "      <td>-1.002493</td>\n",
       "      <td>-1.052499</td>\n",
       "      <td>-0.373826</td>\n",
       "      <td>-0.935361</td>\n",
       "    </tr>\n",
       "  </tbody>\n",
       "</table>\n",
       "</div>"
      ],
      "text/plain": [
       "   simplicity  fatalism  depression   adjsimp  adjfatal    adjdep\n",
       "0   -0.141205 -1.296147   -0.807541 -0.484282 -1.797534 -1.169856\n",
       "1   -0.179157  0.371048   -0.547611 -0.549018 -0.001710 -0.972187\n",
       "2   -0.938421 -2.129764   -0.937516 -0.761136 -1.935619 -0.589627\n",
       "3   -0.520827 -1.296147   -0.872518 -0.331588 -1.162751 -0.691450\n",
       "4   -0.938421 -0.462549   -1.002493 -1.052499 -0.373826 -0.935361"
      ]
     },
     "execution_count": 73,
     "metadata": {},
     "output_type": "execute_result"
    }
   ],
   "source": [
    "mydata_z.head()"
   ]
  },
  {
   "cell_type": "code",
   "execution_count": 74,
   "id": "c08cf63a",
   "metadata": {},
   "outputs": [
    {
     "name": "stderr",
     "output_type": "stream",
     "text": [
      "C:\\Users\\sushm\\anaconda3\\lib\\site-packages\\sklearn\\cluster\\_kmeans.py:881: UserWarning: KMeans is known to have a memory leak on Windows with MKL, when there are less chunks than available threads. You can avoid it by setting the environment variable OMP_NUM_THREADS=1.\n",
      "  warnings.warn(\n"
     ]
    }
   ],
   "source": [
    "from scipy.spatial.distance import cdist\n",
    "clusters=range(1,10)\n",
    "meanDistortions=[]\n",
    "for k in clusters:\n",
    "    model=KMeans(n_clusters=k)\n",
    "    model.fit(mydata)\n",
    "    prediction=model.predict(mydata)\n",
    "    meanDistortions.append(sum(np.min(cdist(mydata,model.cluster_centers_,'euclidean'),axis=1))/mydata.shape[0])\n",
    "    "
   ]
  },
  {
   "cell_type": "code",
   "execution_count": 75,
   "id": "8750c8b9",
   "metadata": {},
   "outputs": [
    {
     "data": {
      "text/plain": [
       "Text(0.5, 1.0, 'selecting k with elbow method')"
      ]
     },
     "execution_count": 75,
     "metadata": {},
     "output_type": "execute_result"
    },
    {
     "data": {
      "image/png": "[encoded data removed]",
      "text/plain": [
       "<Figure size 432x288 with 1 Axes>"
      ]
     },
     "metadata": {
      "needs_background": "light"
     },
     "output_type": "display_data"
    }
   ],
   "source": [
    "plt.plot(clusters,meanDistortions,'*-')\n",
    "plt.xlabel('k')\n",
    "plt.ylabel('Average distortion')\n",
    "plt.title('selecting k with elbow method')"
   ]
  },
  {
   "cell_type": "code",
   "execution_count": 76,
   "id": "2f811c7f",
   "metadata": {},
   "outputs": [],
   "source": [
    "kmeans=KMeans(n_clusters=3)\n"
   ]
  },
  {
   "cell_type": "code",
   "execution_count": 77,
   "id": "f50ae846",
   "metadata": {},
   "outputs": [
    {
     "data": {
      "text/plain": [
       "KMeans(n_clusters=3)"
      ]
     },
     "execution_count": 77,
     "metadata": {},
     "output_type": "execute_result"
    }
   ],
   "source": [
    "kmeans.fit(mydata_z)"
   ]
  },
  {
   "cell_type": "code",
   "execution_count": 78,
   "id": "3a466046",
   "metadata": {},
   "outputs": [],
   "source": [
    "centroids=kmeans.cluster_centers_"
   ]
  },
  {
   "cell_type": "code",
   "execution_count": 79,
   "id": "44165606",
   "metadata": {},
   "outputs": [
    {
     "data": {
      "text/plain": [
       "array([[-0.60393647, -0.72164273, -0.90062454, -0.48447657, -0.63244733,\n",
       "        -0.83635699],\n",
       "       [-0.00240129,  0.30593064,  0.47588456, -0.15570731,  0.21543758,\n",
       "         0.41698529],\n",
       "       [ 1.72480697,  1.30084619,  1.39190785,  1.7621744 ,  1.26973449,\n",
       "         1.35397533]])"
      ]
     },
     "execution_count": 79,
     "metadata": {},
     "output_type": "execute_result"
    }
   ],
   "source": [
    "centroids"
   ]
  },
  {
   "cell_type": "code",
   "execution_count": 80,
   "id": "ecb327ce",
   "metadata": {},
   "outputs": [],
   "source": [
    "centroids_df=pd.DataFrame(centroids, columns=list(mydata_z))"
   ]
  },
  {
   "cell_type": "code",
   "execution_count": 81,
   "id": "c65b13c3",
   "metadata": {},
   "outputs": [
    {
     "name": "stdout",
     "output_type": "stream",
     "text": [
      "   simplicity  fatalism  depression   adjsimp  adjfatal    adjdep\n",
      "0   -0.603936 -0.721643   -0.900625 -0.484477 -0.632447 -0.836357\n",
      "1   -0.002401  0.305931    0.475885 -0.155707  0.215438  0.416985\n",
      "2    1.724807  1.300846    1.391908  1.762174  1.269734  1.353975\n"
     ]
    }
   ],
   "source": [
    "print(centroids_df)"
   ]
  },
  {
   "cell_type": "code",
   "execution_count": 82,
   "id": "b2e186ba",
   "metadata": {},
   "outputs": [
    {
     "data": {
      "text/plain": [
       "array([0, 0, 0, 0, 0, 0, 0, 0, 0, 0, 0, 0, 0, 0, 0, 1, 0, 1, 0, 0, 0, 1,\n",
       "       0, 0, 1, 0, 0, 0, 0, 0, 0, 0, 0, 0, 0, 0, 0, 0, 0, 0, 0, 1, 1, 1,\n",
       "       1, 1, 1, 2, 1, 2, 1, 1, 2, 1, 1, 1, 1, 1, 1, 1, 1, 1, 1, 1, 2, 1,\n",
       "       2, 2, 2, 1, 2, 2, 1, 1, 1, 2, 2, 1, 2, 2, 1, 1])"
      ]
     },
     "execution_count": 82,
     "metadata": {},
     "output_type": "execute_result"
    }
   ],
   "source": [
    "kmeans.labels_"
   ]
  },
  {
   "cell_type": "code",
   "execution_count": 83,
   "id": "f150a617",
   "metadata": {},
   "outputs": [],
   "source": [
    "df_labels=pd.DataFrame(kmeans.labels_,columns=list(['labels']))\n",
    "df_labels['labels']=df_labels['labels']"
   ]
  },
  {
   "cell_type": "code",
   "execution_count": 84,
   "id": "732e5f47",
   "metadata": {},
   "outputs": [],
   "source": [
    "df_labeled=mydata.join(df_labels)"
   ]
  },
  {
   "cell_type": "code",
   "execution_count": 85,
   "id": "b8ad0622",
   "metadata": {},
   "outputs": [
    {
     "data": {
      "text/html": [
       "<div>\n",
       "<style scoped>\n",
       "    .dataframe tbody tr th:only-of-type {\n",
       "        vertical-align: middle;\n",
       "    }\n",
       "\n",
       "    .dataframe tbody tr th {\n",
       "        vertical-align: top;\n",
       "    }\n",
       "\n",
       "    .dataframe thead th {\n",
       "        text-align: right;\n",
       "    }\n",
       "</style>\n",
       "<table border=\"1\" class=\"dataframe\">\n",
       "  <thead>\n",
       "    <tr style=\"text-align: right;\">\n",
       "      <th></th>\n",
       "      <th>simplicity</th>\n",
       "      <th>fatalism</th>\n",
       "      <th>depression</th>\n",
       "      <th>adjsimp</th>\n",
       "      <th>adjfatal</th>\n",
       "      <th>adjdep</th>\n",
       "      <th>labels</th>\n",
       "    </tr>\n",
       "  </thead>\n",
       "  <tbody>\n",
       "    <tr>\n",
       "      <th>0</th>\n",
       "      <td>0.92983</td>\n",
       "      <td>0.35589</td>\n",
       "      <td>0.59870</td>\n",
       "      <td>0.75934</td>\n",
       "      <td>0.10673</td>\n",
       "      <td>0.41865</td>\n",
       "      <td>0</td>\n",
       "    </tr>\n",
       "    <tr>\n",
       "      <th>1</th>\n",
       "      <td>0.91097</td>\n",
       "      <td>1.18439</td>\n",
       "      <td>0.72787</td>\n",
       "      <td>0.72717</td>\n",
       "      <td>0.99915</td>\n",
       "      <td>0.51688</td>\n",
       "      <td>0</td>\n",
       "    </tr>\n",
       "    <tr>\n",
       "      <th>2</th>\n",
       "      <td>0.53366</td>\n",
       "      <td>-0.05837</td>\n",
       "      <td>0.53411</td>\n",
       "      <td>0.62176</td>\n",
       "      <td>0.03811</td>\n",
       "      <td>0.70699</td>\n",
       "      <td>0</td>\n",
       "    </tr>\n",
       "    <tr>\n",
       "      <th>15</th>\n",
       "      <td>0.98643</td>\n",
       "      <td>1.39152</td>\n",
       "      <td>0.72787</td>\n",
       "      <td>1.38099</td>\n",
       "      <td>1.82207</td>\n",
       "      <td>1.01999</td>\n",
       "      <td>1</td>\n",
       "    </tr>\n",
       "    <tr>\n",
       "      <th>17</th>\n",
       "      <td>0.83550</td>\n",
       "      <td>1.18439</td>\n",
       "      <td>0.56641</td>\n",
       "      <td>1.23164</td>\n",
       "      <td>1.67146</td>\n",
       "      <td>0.92942</td>\n",
       "      <td>1</td>\n",
       "    </tr>\n",
       "    <tr>\n",
       "      <th>21</th>\n",
       "      <td>0.70345</td>\n",
       "      <td>1.39152</td>\n",
       "      <td>0.59870</td>\n",
       "      <td>0.77089</td>\n",
       "      <td>1.50663</td>\n",
       "      <td>0.60579</td>\n",
       "      <td>1</td>\n",
       "    </tr>\n",
       "    <tr>\n",
       "      <th>47</th>\n",
       "      <td>1.68444</td>\n",
       "      <td>1.39152</td>\n",
       "      <td>1.37373</td>\n",
       "      <td>1.67889</td>\n",
       "      <td>1.52260</td>\n",
       "      <td>1.52332</td>\n",
       "      <td>2</td>\n",
       "    </tr>\n",
       "    <tr>\n",
       "      <th>49</th>\n",
       "      <td>2.08061</td>\n",
       "      <td>1.39152</td>\n",
       "      <td>1.27685</td>\n",
       "      <td>2.06284</td>\n",
       "      <td>1.27404</td>\n",
       "      <td>1.15978</td>\n",
       "      <td>2</td>\n",
       "    </tr>\n",
       "    <tr>\n",
       "      <th>52</th>\n",
       "      <td>1.59011</td>\n",
       "      <td>1.59865</td>\n",
       "      <td>1.14768</td>\n",
       "      <td>1.67363</td>\n",
       "      <td>1.74808</td>\n",
       "      <td>1.24102</td>\n",
       "      <td>2</td>\n",
       "    </tr>\n",
       "  </tbody>\n",
       "</table>\n",
       "</div>"
      ],
      "text/plain": [
       "    simplicity  fatalism  depression  adjsimp  adjfatal   adjdep  labels\n",
       "0      0.92983   0.35589     0.59870  0.75934   0.10673  0.41865       0\n",
       "1      0.91097   1.18439     0.72787  0.72717   0.99915  0.51688       0\n",
       "2      0.53366  -0.05837     0.53411  0.62176   0.03811  0.70699       0\n",
       "15     0.98643   1.39152     0.72787  1.38099   1.82207  1.01999       1\n",
       "17     0.83550   1.18439     0.56641  1.23164   1.67146  0.92942       1\n",
       "21     0.70345   1.39152     0.59870  0.77089   1.50663  0.60579       1\n",
       "47     1.68444   1.39152     1.37373  1.67889   1.52260  1.52332       2\n",
       "49     2.08061   1.39152     1.27685  2.06284   1.27404  1.15978       2\n",
       "52     1.59011   1.59865     1.14768  1.67363   1.74808  1.24102       2"
      ]
     },
     "execution_count": 85,
     "metadata": {},
     "output_type": "execute_result"
    }
   ],
   "source": [
    "df_analysis=(df_labeled.groupby(['labels'],axis=0)).head(3)\n",
    "df_analysis"
   ]
  },
  {
   "cell_type": "code",
   "execution_count": 86,
   "id": "b19d69c5",
   "metadata": {},
   "outputs": [
    {
     "data": {
      "text/plain": [
       "0    37\n",
       "1    32\n",
       "2    13\n",
       "Name: labels, dtype: int64"
      ]
     },
     "execution_count": 86,
     "metadata": {},
     "output_type": "execute_result"
    }
   ],
   "source": [
    "df_labeled['labels'].value_counts()"
   ]
  },
  {
   "cell_type": "code",
   "execution_count": 1,
   "id": "61ea4314",
   "metadata": {},
   "outputs": [
    {
     "data": {
      "text/plain": [
       "'C:\\\\Users\\\\sushm'"
      ]
     },
     "execution_count": 1,
     "metadata": {},
     "output_type": "execute_result"
    }
   ],
   "source": [
    "pwd"
   ]
  },
  {
   "cell_type": "code",
   "execution_count": null,
   "id": "357bed45",
   "metadata": {},
   "outputs": [],
   "source": []
  }
 ],
 "metadata": {
  "kernelspec": {
   "display_name": "Python 3",
   "language": "python",
   "name": "python3"
  },
  "language_info": {
   "codemirror_mode": {
    "name": "ipython",
    "version": 3
   },
   "file_extension": ".py",
   "mimetype": "text/x-python",
   "name": "python",
   "nbconvert_exporter": "python",
   "pygments_lexer": "ipython3",
   "version": "3.8.8"
  }
 },
 "nbformat": 4,
 "nbformat_minor": 5
}
